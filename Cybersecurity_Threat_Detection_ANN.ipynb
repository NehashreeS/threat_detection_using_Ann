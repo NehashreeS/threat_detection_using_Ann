{
  "metadata": {
    "kernelspec": {
      "language": "python",
      "display_name": "Python 3",
      "name": "python3"
    },
    "language_info": {
      "name": "python",
      "version": "3.10.13",
      "mimetype": "text/x-python",
      "codemirror_mode": {
        "name": "ipython",
        "version": 3
      },
      "pygments_lexer": "ipython3",
      "nbconvert_exporter": "python",
      "file_extension": ".py"
    },
    "kaggle": {
      "accelerator": "none",
      "dataSources": [
        {
          "sourceId": 267091,
          "sourceType": "datasetVersion",
          "datasetId": 111554
        }
      ],
      "dockerImageVersionId": 30698,
      "isInternetEnabled": true,
      "language": "python",
      "sourceType": "notebook",
      "isGpuEnabled": false
    },
    "colab": {
      "provenance": [],
      "include_colab_link": true
    }
  },
  "nbformat_minor": 0,
  "nbformat": 4,
  "cells": [
    {
      "cell_type": "markdown",
      "metadata": {
        "id": "view-in-github",
        "colab_type": "text"
      },
      "source": [
        "<a href=\"https://colab.research.google.com/github/NehashreeS/threat_detection_using_Ann/blob/main/Cybersecurity_Threat_Detection_ANN.ipynb\" target=\"_parent\"><img src=\"https://colab.research.google.com/assets/colab-badge.svg\" alt=\"Open In Colab\"/></a>"
      ]
    },
    {
      "source": [
        "import os\n",
        "import sys\n",
        "from tempfile import NamedTemporaryFile\n",
        "from urllib.request import urlopen\n",
        "from urllib.parse import unquote, urlparse\n",
        "from urllib.error import HTTPError\n",
        "from zipfile import ZipFile\n",
        "import tarfile\n",
        "import shutil\n",
        "\n",
        "CHUNK_SIZE = 40960\n",
        "DATA_SOURCE_MAPPING = 'unsw-nb15:https%3A%2F%2Fstorage.googleapis.com%2Fkaggle-data-sets%2F111554%2F267091%2Fbundle%2Farchive.zip%3FX-Goog-Algorithm%3DGOOG4-RSA-SHA256%26X-Goog-Credential%3Dgcp-kaggle-com%2540kaggle-161607.iam.gserviceaccount.com%252F20240927%252Fauto%252Fstorage%252Fgoog4_request%26X-Goog-Date%3D20240927T085729Z%26X-Goog-Expires%3D259200%26X-Goog-SignedHeaders%3Dhost%26X-Goog-Signature%3Da5e9a6a59682e1e34f344fd4b4852b79043baed44940b4078db08ac29d48c44724886e4f70b37d4a75d981b523ac65efab39c35f4f418e24fe606be8b30f642abdf63b140b3a9fa1b153f1cfe627aa7e582c10f352ba4ed5dbe507cc9f5b4d7dcdb4cb0d8f561dffc23311bb1dbda7d15007f3eca534d9b139238415dd27d58d91bc9498ecec792e9e621627187304d2ba68bc5912deb73333080240b6f4701546c36729a185efb855f559aeff8e2b169dc698ad109ddb94d8a4c6c697ea70ca51fd81322aafa9c9d8d577edfee842dd4aa9a512c791e7a0fd0af81b81947a55aa8b7db13830b9cbd4122a7c1b49e3db2cd9c2e8eb4b57dd99f52ceaec348bf2'\n",
        "\n",
        "KAGGLE_INPUT_PATH='/kaggle/input'\n",
        "KAGGLE_WORKING_PATH='/kaggle/working'\n",
        "KAGGLE_SYMLINK='kaggle'\n",
        "\n",
        "!umount /kaggle/input/ 2> /dev/null\n",
        "shutil.rmtree('/kaggle/input', ignore_errors=True)\n",
        "os.makedirs(KAGGLE_INPUT_PATH, 0o777, exist_ok=True)\n",
        "os.makedirs(KAGGLE_WORKING_PATH, 0o777, exist_ok=True)\n",
        "\n",
        "try:\n",
        "  os.symlink(KAGGLE_INPUT_PATH, os.path.join(\"..\", 'input'), target_is_directory=True)\n",
        "except FileExistsError:\n",
        "  pass\n",
        "try:\n",
        "  os.symlink(KAGGLE_WORKING_PATH, os.path.join(\"..\", 'working'), target_is_directory=True)\n",
        "except FileExistsError:\n",
        "  pass\n",
        "\n",
        "for data_source_mapping in DATA_SOURCE_MAPPING.split(','):\n",
        "    directory, download_url_encoded = data_source_mapping.split(':')\n",
        "    download_url = unquote(download_url_encoded)\n",
        "    filename = urlparse(download_url).path\n",
        "    destination_path = os.path.join(KAGGLE_INPUT_PATH, directory)\n",
        "    try:\n",
        "        with urlopen(download_url) as fileres, NamedTemporaryFile() as tfile:\n",
        "            total_length = fileres.headers['content-length']\n",
        "            print(f'Downloading {directory}, {total_length} bytes compressed')\n",
        "            dl = 0\n",
        "            data = fileres.read(CHUNK_SIZE)\n",
        "            while len(data) > 0:\n",
        "                dl += len(data)\n",
        "                tfile.write(data)\n",
        "                done = int(50 * dl / int(total_length))\n",
        "                sys.stdout.write(f\"\\r[{'=' * done}{' ' * (50-done)}] {dl} bytes downloaded\")\n",
        "                sys.stdout.flush()\n",
        "                data = fileres.read(CHUNK_SIZE)\n",
        "            if filename.endswith('.zip'):\n",
        "              with ZipFile(tfile) as zfile:\n",
        "                zfile.extractall(destination_path)\n",
        "            else:\n",
        "              with tarfile.open(tfile.name) as tarfile:\n",
        "                tarfile.extractall(destination_path)\n",
        "            print(f'\\nDownloaded and uncompressed: {directory}')\n",
        "    except HTTPError as e:\n",
        "        print(f'Failed to load (likely expired) {download_url} to path {destination_path}')\n",
        "        continue\n",
        "    except OSError as e:\n",
        "        print(f'Failed to load {download_url} to path {destination_path}')\n",
        "        continue\n",
        "\n",
        "print('Data source import complete.')\n"
      ],
      "metadata": {
        "id": "kXOXr0Rgsw5z"
      },
      "cell_type": "code",
      "outputs": [],
      "execution_count": null
    },
    {
      "cell_type": "markdown",
      "source": [
        "# 1  Importing Required Libraries & DataSource"
      ],
      "metadata": {
        "id": "EnwU-1s8sw54"
      }
    },
    {
      "cell_type": "code",
      "source": [
        "# Libraries for Data Manipulation\n",
        "import pandas as pd\n",
        "import numpy as np\n",
        "\n",
        "import gc\n",
        "\n",
        "# Libraries for Data Visualization\n",
        "import seaborn as sns\n",
        "import matplotlib.pyplot as plt\n",
        "import altair as alt\n",
        "from scipy.stats import skew\n",
        "sns.set(style=\"white\", font_scale=1.5)\n",
        "sns.set(rc={\"axes.facecolor\":\"#FFFAF0\", \"figure.facecolor\":\"#FFFAF0\"})\n",
        "sns.set_context(\"poster\", font_scale=.7)\n",
        "import matplotlib.ticker as ticker\n",
        "\n",
        "# Libraries to Handle Warnings\n",
        "import warnings\n",
        "warnings.filterwarnings('ignore')\n",
        "\n",
        "# Libraries for Statistical Analysis\n",
        "from scipy import stats\n",
        "from scipy.stats import chi2, chi2_contingency\n",
        "\n",
        "# Setting Display Options\n",
        "pd.set_option(\"display.max.columns\", None)\n",
        "\n",
        "# Machine Learning Algorithms\n",
        "from sklearn.utils.class_weight import compute_class_weight\n",
        "from sklearn.model_selection import train_test_split\n",
        "from sklearn.feature_selection import mutual_info_regression\n",
        "from sklearn.decomposition import PCA\n",
        "from sklearn.preprocessing import MinMaxScaler, StandardScaler\n",
        "from sklearn.preprocessing import LabelEncoder, OneHotEncoder\n",
        "import joblib\n",
        "\n",
        "\n",
        "import tensorflow as tf\n",
        "from tensorflow.keras.models import Sequential\n",
        "from tensorflow.keras.layers import Dense, BatchNormalization, Dropout,LeakyReLU\n",
        "from tensorflow.keras.initializers import HeNormal\n",
        "from tensorflow.keras.regularizers import l1,l2\n",
        "from tensorflow.keras.optimizers import SGD\n",
        "import keras_tuner\n",
        "import keras\n",
        "\n",
        "\n",
        "# Model Evaluation Metrics\n",
        "from sklearn.metrics import (\n",
        "    accuracy_score,\n",
        "    recall_score,\n",
        "    precision_score,\n",
        "    f1_score,silhouette_score,\n",
        "    confusion_matrix,\n",
        "    classification_report,\n",
        "    roc_auc_score,\n",
        "    roc_curve\n",
        ")\n",
        "\n",
        "# Data Source\n",
        "import os\n",
        "for dirname, _, filenames in os.walk('/kaggle/input'):\n",
        "    for filename in filenames:\n",
        "        print(os.path.join(dirname, filename))\n"
      ],
      "metadata": {
        "execution": {
          "iopub.status.busy": "2024-06-22T06:42:26.190923Z",
          "iopub.execute_input": "2024-06-22T06:42:26.191727Z",
          "iopub.status.idle": "2024-06-22T06:42:26.477656Z",
          "shell.execute_reply.started": "2024-06-22T06:42:26.191667Z",
          "shell.execute_reply": "2024-06-22T06:42:26.476416Z"
        },
        "trusted": true,
        "id": "SeTnwhaXsw55"
      },
      "execution_count": null,
      "outputs": []
    },
    {
      "cell_type": "markdown",
      "source": [
        "\n",
        "# Load and Inspect Dataset"
      ],
      "metadata": {
        "id": "jkDhxx9Jsw55"
      }
    },
    {
      "cell_type": "code",
      "source": [
        "testing_set = pd.read_csv('/kaggle/input/unsw-nb15/UNSW_NB15_testing-set.csv')\n",
        "training_set = pd.read_csv('/kaggle/input/unsw-nb15/UNSW_NB15_training-set.csv')\n",
        "LIST_EVENTS = pd.read_csv('/kaggle/input/unsw-nb15/UNSW-NB15_LIST_EVENTS.csv')\n",
        "NB15_1 = pd.read_csv('/kaggle/input/unsw-nb15/UNSW-NB15_1.csv')\n",
        "NB15_2 = pd.read_csv('/kaggle/input/unsw-nb15/UNSW-NB15_2.csv')\n",
        "NB15_3 = pd.read_csv('/kaggle/input/unsw-nb15/UNSW-NB15_3.csv')\n",
        "NB15_4 = pd.read_csv('/kaggle/input/unsw-nb15/UNSW-NB15_4.csv')\n",
        "NB15_features = pd.read_csv('/kaggle/input/unsw-nb15/NUSW-NB15_features.csv', encoding='cp1252')"
      ],
      "metadata": {
        "execution": {
          "iopub.status.busy": "2024-06-22T06:15:27.58261Z",
          "iopub.execute_input": "2024-06-22T06:15:27.583492Z",
          "iopub.status.idle": "2024-06-22T06:15:46.026303Z",
          "shell.execute_reply.started": "2024-06-22T06:15:27.58345Z",
          "shell.execute_reply": "2024-06-22T06:15:46.025035Z"
        },
        "trusted": true,
        "id": "51zEs34fsw55"
      },
      "execution_count": null,
      "outputs": []
    },
    {
      "cell_type": "code",
      "source": [
        "testing_set.head()"
      ],
      "metadata": {
        "execution": {
          "iopub.status.busy": "2024-06-22T06:15:46.027685Z",
          "iopub.execute_input": "2024-06-22T06:15:46.028065Z",
          "iopub.status.idle": "2024-06-22T06:15:46.067512Z",
          "shell.execute_reply.started": "2024-06-22T06:15:46.028036Z",
          "shell.execute_reply": "2024-06-22T06:15:46.06647Z"
        },
        "trusted": true,
        "id": "Cpmslrxlsw56"
      },
      "execution_count": null,
      "outputs": []
    },
    {
      "cell_type": "code",
      "source": [
        "training_set.head()"
      ],
      "metadata": {
        "execution": {
          "iopub.status.busy": "2024-06-22T06:15:46.070834Z",
          "iopub.execute_input": "2024-06-22T06:15:46.071558Z",
          "iopub.status.idle": "2024-06-22T06:15:46.108451Z",
          "shell.execute_reply.started": "2024-06-22T06:15:46.071525Z",
          "shell.execute_reply": "2024-06-22T06:15:46.107357Z"
        },
        "trusted": true,
        "id": "75qXvT8Ysw56"
      },
      "execution_count": null,
      "outputs": []
    },
    {
      "cell_type": "code",
      "source": [
        "LIST_EVENTS.head()"
      ],
      "metadata": {
        "execution": {
          "iopub.status.busy": "2024-06-22T06:15:46.109896Z",
          "iopub.execute_input": "2024-06-22T06:15:46.110237Z",
          "iopub.status.idle": "2024-06-22T06:15:46.127061Z",
          "shell.execute_reply.started": "2024-06-22T06:15:46.110208Z",
          "shell.execute_reply": "2024-06-22T06:15:46.125736Z"
        },
        "trusted": true,
        "id": "-G0TSb0xsw56"
      },
      "execution_count": null,
      "outputs": []
    },
    {
      "cell_type": "code",
      "source": [
        "NB15_1.head()"
      ],
      "metadata": {
        "execution": {
          "iopub.status.busy": "2024-06-22T06:15:46.128456Z",
          "iopub.execute_input": "2024-06-22T06:15:46.128879Z",
          "iopub.status.idle": "2024-06-22T06:15:46.170218Z",
          "shell.execute_reply.started": "2024-06-22T06:15:46.128845Z",
          "shell.execute_reply": "2024-06-22T06:15:46.169116Z"
        },
        "trusted": true,
        "id": "Z82KE3iksw57"
      },
      "execution_count": null,
      "outputs": []
    },
    {
      "cell_type": "code",
      "source": [
        "NB15_2.head()"
      ],
      "metadata": {
        "execution": {
          "iopub.status.busy": "2024-06-22T06:15:46.171712Z",
          "iopub.execute_input": "2024-06-22T06:15:46.172112Z",
          "iopub.status.idle": "2024-06-22T06:15:46.210533Z",
          "shell.execute_reply.started": "2024-06-22T06:15:46.172072Z",
          "shell.execute_reply": "2024-06-22T06:15:46.209498Z"
        },
        "trusted": true,
        "id": "lZt0DrGEsw57"
      },
      "execution_count": null,
      "outputs": []
    },
    {
      "cell_type": "code",
      "source": [
        "NB15_3.head()"
      ],
      "metadata": {
        "execution": {
          "iopub.status.busy": "2024-06-22T06:15:46.212119Z",
          "iopub.execute_input": "2024-06-22T06:15:46.212482Z",
          "iopub.status.idle": "2024-06-22T06:15:46.250562Z",
          "shell.execute_reply.started": "2024-06-22T06:15:46.212451Z",
          "shell.execute_reply": "2024-06-22T06:15:46.249471Z"
        },
        "trusted": true,
        "id": "vekWv8Vzsw57"
      },
      "execution_count": null,
      "outputs": []
    },
    {
      "cell_type": "code",
      "source": [
        "NB15_4.head()"
      ],
      "metadata": {
        "execution": {
          "iopub.status.busy": "2024-06-22T06:15:46.252058Z",
          "iopub.execute_input": "2024-06-22T06:15:46.252488Z",
          "iopub.status.idle": "2024-06-22T06:15:46.293153Z",
          "shell.execute_reply.started": "2024-06-22T06:15:46.252449Z",
          "shell.execute_reply": "2024-06-22T06:15:46.29207Z"
        },
        "trusted": true,
        "id": "MeWhd0tSsw58"
      },
      "execution_count": null,
      "outputs": []
    },
    {
      "cell_type": "markdown",
      "source": [
        "\n",
        "# Understanding About features\n",
        "\n"
      ],
      "metadata": {
        "execution": {
          "iopub.status.busy": "2024-05-31T13:05:30.500546Z",
          "iopub.execute_input": "2024-05-31T13:05:30.501155Z",
          "iopub.status.idle": "2024-05-31T13:05:30.511286Z",
          "shell.execute_reply.started": "2024-05-31T13:05:30.501113Z",
          "shell.execute_reply": "2024-05-31T13:05:30.509512Z"
        },
        "id": "TnAo9cAVsw58"
      }
    },
    {
      "cell_type": "code",
      "source": [
        "NB15_features"
      ],
      "metadata": {
        "execution": {
          "iopub.status.busy": "2024-06-22T06:15:46.298669Z",
          "iopub.execute_input": "2024-06-22T06:15:46.299128Z",
          "iopub.status.idle": "2024-06-22T06:15:46.318166Z",
          "shell.execute_reply.started": "2024-06-22T06:15:46.299095Z",
          "shell.execute_reply": "2024-06-22T06:15:46.317065Z"
        },
        "trusted": true,
        "id": "Of3Jgp4Osw58"
      },
      "execution_count": null,
      "outputs": []
    },
    {
      "cell_type": "markdown",
      "source": [
        "\n",
        "# Concating the Data\n"
      ],
      "metadata": {
        "id": "15k005pWsw58"
      }
    },
    {
      "cell_type": "code",
      "source": [
        "NB15_1.columns = NB15_features['Name']\n",
        "NB15_2.columns = NB15_features['Name']\n",
        "NB15_3.columns = NB15_features['Name']\n",
        "NB15_4.columns = NB15_features['Name']"
      ],
      "metadata": {
        "execution": {
          "iopub.status.busy": "2024-06-22T06:15:46.321112Z",
          "iopub.execute_input": "2024-06-22T06:15:46.321537Z",
          "iopub.status.idle": "2024-06-22T06:15:46.329864Z",
          "shell.execute_reply.started": "2024-06-22T06:15:46.321503Z",
          "shell.execute_reply": "2024-06-22T06:15:46.328569Z"
        },
        "trusted": true,
        "id": "M_-wrN8osw58"
      },
      "execution_count": null,
      "outputs": []
    },
    {
      "cell_type": "code",
      "source": [
        "train_df = pd.concat([NB15_1, NB15_2, NB15_3, NB15_4], ignore_index=True)"
      ],
      "metadata": {
        "execution": {
          "iopub.status.busy": "2024-06-22T06:15:46.33128Z",
          "iopub.execute_input": "2024-06-22T06:15:46.331661Z",
          "iopub.status.idle": "2024-06-22T06:15:46.963457Z",
          "shell.execute_reply.started": "2024-06-22T06:15:46.331631Z",
          "shell.execute_reply": "2024-06-22T06:15:46.96227Z"
        },
        "trusted": true,
        "id": "Ba5Yyik_sw58"
      },
      "execution_count": null,
      "outputs": []
    },
    {
      "cell_type": "code",
      "source": [
        "# Shuffle the data points in train_df\n",
        "train_df = train_df.sample(frac=1, random_state=42).reset_index(drop=True)"
      ],
      "metadata": {
        "execution": {
          "iopub.status.busy": "2024-06-22T06:15:46.964953Z",
          "iopub.execute_input": "2024-06-22T06:15:46.96537Z",
          "iopub.status.idle": "2024-06-22T06:15:53.939394Z",
          "shell.execute_reply.started": "2024-06-22T06:15:46.965331Z",
          "shell.execute_reply": "2024-06-22T06:15:53.93839Z"
        },
        "trusted": true,
        "id": "9vPVYWGssw58"
      },
      "execution_count": null,
      "outputs": []
    },
    {
      "cell_type": "code",
      "source": [
        "train_df"
      ],
      "metadata": {
        "execution": {
          "iopub.status.busy": "2024-06-22T06:15:53.940791Z",
          "iopub.execute_input": "2024-06-22T06:15:53.941201Z",
          "iopub.status.idle": "2024-06-22T06:15:53.991887Z",
          "shell.execute_reply.started": "2024-06-22T06:15:53.941164Z",
          "shell.execute_reply": "2024-06-22T06:15:53.990458Z"
        },
        "trusted": true,
        "id": "ZpQcaUsKsw58"
      },
      "execution_count": null,
      "outputs": []
    },
    {
      "cell_type": "markdown",
      "source": [
        "\n",
        "# 2 | Data Analysis and Basic preprocessing\n"
      ],
      "metadata": {
        "id": "hk68ko8_sw58"
      }
    },
    {
      "cell_type": "markdown",
      "source": [
        "<a id='2.1'></a>\n",
        "## **1. Computing Dimension of Dataset**"
      ],
      "metadata": {
        "id": "-KN601IZsw59"
      }
    },
    {
      "cell_type": "code",
      "source": [
        "print(\"dataset shape: \",train_df.shape)"
      ],
      "metadata": {
        "execution": {
          "iopub.status.busy": "2024-06-22T06:15:53.993517Z",
          "iopub.execute_input": "2024-06-22T06:15:53.993941Z",
          "iopub.status.idle": "2024-06-22T06:15:53.999916Z",
          "shell.execute_reply.started": "2024-06-22T06:15:53.99391Z",
          "shell.execute_reply": "2024-06-22T06:15:53.998779Z"
        },
        "trusted": true,
        "id": "ceyVjbDvsw59"
      },
      "execution_count": null,
      "outputs": []
    },
    {
      "cell_type": "markdown",
      "source": [
        "<div style=\"border-radius:10px; border:#808080 solid; padding: 15px; background-color: ##F0E68C ; font-size:100%; text-align:left\">\n",
        "\n",
        "<h3 align=\"left\"><font color=brown> 🔍 Inference:</font></h3>\n",
        "\n",
        "* There is total **2540043 records** and **49 columns** availabe in the train_dataset."
      ],
      "metadata": {
        "id": "dnqMkDz7sw59"
      }
    },
    {
      "cell_type": "markdown",
      "source": [
        "<a id='2.2'></a>\n",
        "## **2. Statistical Summary of Dataset**"
      ],
      "metadata": {
        "id": "LxF_OlpVsw59"
      }
    },
    {
      "cell_type": "code",
      "source": [
        "train_df.info()"
      ],
      "metadata": {
        "execution": {
          "iopub.status.busy": "2024-06-22T06:15:54.001868Z",
          "iopub.execute_input": "2024-06-22T06:15:54.002232Z",
          "iopub.status.idle": "2024-06-22T06:15:54.022755Z",
          "shell.execute_reply.started": "2024-06-22T06:15:54.002203Z",
          "shell.execute_reply": "2024-06-22T06:15:54.021591Z"
        },
        "trusted": true,
        "id": "xQSulOjhsw59"
      },
      "execution_count": null,
      "outputs": []
    },
    {
      "cell_type": "code",
      "source": [
        "# Identify the data types of columns\n",
        "column_data_types = train_df.dtypes\n",
        "\n",
        "# Count the numerical and categorical columns\n",
        "numerical_count = 0\n",
        "categorical_count = 0\n",
        "\n",
        "for column_name, data_type in column_data_types.items():\n",
        "    if np.issubdtype(data_type, np.number):\n",
        "        numerical_count += 1\n",
        "    else:\n",
        "        categorical_count += 1\n",
        "\n",
        "# Print the counts\n",
        "print(f\"There are {numerical_count} Numerical Columns in dataset\")\n",
        "print(f\"There are {categorical_count} Categorical Columns in dataset\")"
      ],
      "metadata": {
        "execution": {
          "iopub.status.busy": "2024-06-22T06:15:54.024207Z",
          "iopub.execute_input": "2024-06-22T06:15:54.02464Z",
          "iopub.status.idle": "2024-06-22T06:15:54.036965Z",
          "shell.execute_reply.started": "2024-06-22T06:15:54.0246Z",
          "shell.execute_reply": "2024-06-22T06:15:54.035757Z"
        },
        "trusted": true,
        "id": "bc7gTdyosw59"
      },
      "execution_count": null,
      "outputs": []
    },
    {
      "cell_type": "markdown",
      "source": [
        "<a id='2.3'></a>\n",
        "## 3. **Checking if There's Any Duplicate Records.**"
      ],
      "metadata": {
        "id": "l4KvbYRvsw59"
      }
    },
    {
      "cell_type": "code",
      "source": [
        "print(\"Duplicates in train_df: \",train_df.duplicated().sum())"
      ],
      "metadata": {
        "execution": {
          "iopub.status.busy": "2024-06-22T06:15:54.038394Z",
          "iopub.execute_input": "2024-06-22T06:15:54.038841Z",
          "iopub.status.idle": "2024-06-22T06:16:04.410483Z",
          "shell.execute_reply.started": "2024-06-22T06:15:54.038805Z",
          "shell.execute_reply": "2024-06-22T06:16:04.409267Z"
        },
        "trusted": true,
        "id": "OrF0_8ZWsw59"
      },
      "execution_count": null,
      "outputs": []
    },
    {
      "cell_type": "code",
      "source": [
        "train_df = train_df.drop_duplicates()"
      ],
      "metadata": {
        "execution": {
          "iopub.status.busy": "2024-06-22T06:16:04.412104Z",
          "iopub.execute_input": "2024-06-22T06:16:04.41251Z",
          "iopub.status.idle": "2024-06-22T06:16:15.410487Z",
          "shell.execute_reply.started": "2024-06-22T06:16:04.412478Z",
          "shell.execute_reply": "2024-06-22T06:16:15.409407Z"
        },
        "trusted": true,
        "id": "NT68RTbtsw59"
      },
      "execution_count": null,
      "outputs": []
    },
    {
      "cell_type": "markdown",
      "source": [
        "<div style=\"border-radius:10px; border:#808080 solid; padding: 15px; background-color: ##F0E68C ; font-size:100%; text-align:left\">\n",
        "\n",
        "<h3 align=\"left\"><font color=brown> 🔍 Inference:</font></h3>\n",
        "\n",
        "* There are 480626 duplicate records present in the dataset."
      ],
      "metadata": {
        "id": "d8bGjIfysw59"
      }
    },
    {
      "cell_type": "markdown",
      "source": [
        "<a id='2.4'></a>\n",
        "## 4. **Computing Total No. of Missing Values and the Percentage of Missing Values**"
      ],
      "metadata": {
        "id": "dN-QL_fTsw5-"
      }
    },
    {
      "cell_type": "code",
      "source": [
        "missing_data = train_df.isnull().sum().to_frame().rename(columns={0:\"Total No. of Missing Values\"})\n",
        "missing_data[\"% of Missing Values\"] = round((missing_data[\"Total No. of Missing Values\"]/len(train_df))*100,2)\n",
        "missing_data"
      ],
      "metadata": {
        "execution": {
          "iopub.status.busy": "2024-06-22T06:16:15.411739Z",
          "iopub.execute_input": "2024-06-22T06:16:15.412081Z",
          "iopub.status.idle": "2024-06-22T06:16:17.589578Z",
          "shell.execute_reply.started": "2024-06-22T06:16:15.412052Z",
          "shell.execute_reply": "2024-06-22T06:16:17.588598Z"
        },
        "trusted": true,
        "id": "quMIm_jjsw5-"
      },
      "execution_count": null,
      "outputs": []
    },
    {
      "cell_type": "markdown",
      "source": [
        "## **Handling Null values here because it create wrong inference in EDA**"
      ],
      "metadata": {
        "id": "erZd4-Ossw5-"
      }
    },
    {
      "cell_type": "code",
      "source": [
        "# NaN values implies that no attack are there for that particular row data, Replace NaN values in the 'attack_cat' column with 'not attacked'\n",
        "train_df['attack_cat'].fillna('normal',inplace = True)\n",
        "train_df['attack_cat'] = train_df['attack_cat'].apply(lambda x: x.strip().lower())\n",
        "\n",
        "# missing values imply that there were no flows with HTTP methods in certain instances so we will replace the NAN with 0\n",
        "train_df['ct_flw_http_mthd'].fillna(0, inplace=True)\n",
        "\n",
        "# is_ftp_login is of type binary that mean it takes 1(user has loged in) or 0 (or not) so the best approch is to replace nan with 0\n",
        "train_df['is_ftp_login'].fillna(0, inplace=True)"
      ],
      "metadata": {
        "execution": {
          "iopub.status.busy": "2024-06-22T06:16:17.591034Z",
          "iopub.execute_input": "2024-06-22T06:16:17.591329Z",
          "iopub.status.idle": "2024-06-22T06:16:18.873393Z",
          "shell.execute_reply.started": "2024-06-22T06:16:17.591303Z",
          "shell.execute_reply": "2024-06-22T06:16:18.872282Z"
        },
        "trusted": true,
        "id": "mITO5OI3sw5-"
      },
      "execution_count": null,
      "outputs": []
    },
    {
      "cell_type": "markdown",
      "source": [
        "<div style=\"border-radius:10px; border:#808080 solid; padding: 15px; background-color: ##F0E68C ; font-size:100%; text-align:left\">\n",
        "\n",
        "<h3 align=\"left\"><font color=brown> 🔍 Inference:</font></h3>\n",
        "\n",
        "* ct_flw_http_mthd,is_ftp_login and attack_cat of the Attribute are having Missing Values we handle it later.  "
      ],
      "metadata": {
        "execution": {
          "iopub.status.busy": "2024-05-31T12:35:01.556329Z",
          "iopub.execute_input": "2024-05-31T12:35:01.556757Z",
          "iopub.status.idle": "2024-05-31T12:35:01.56658Z",
          "shell.execute_reply.started": "2024-05-31T12:35:01.556723Z",
          "shell.execute_reply": "2024-05-31T12:35:01.564788Z"
        },
        "id": "xRNepevOsw5-"
      }
    },
    {
      "cell_type": "markdown",
      "source": [
        "<a id='2.5'></a>\n",
        "## **5. Performing Descriptive Analysis**"
      ],
      "metadata": {
        "id": "sQ_pSM0Nsw5-"
      }
    },
    {
      "cell_type": "code",
      "source": [
        "round(train_df.describe().T,2)"
      ],
      "metadata": {
        "execution": {
          "iopub.status.busy": "2024-06-22T06:16:18.874726Z",
          "iopub.execute_input": "2024-06-22T06:16:18.875064Z",
          "iopub.status.idle": "2024-06-22T06:16:21.721148Z",
          "shell.execute_reply.started": "2024-06-22T06:16:18.875034Z",
          "shell.execute_reply": "2024-06-22T06:16:21.719864Z"
        },
        "trusted": true,
        "id": "htI9MJyPsw5-"
      },
      "execution_count": null,
      "outputs": []
    },
    {
      "cell_type": "markdown",
      "source": [
        "<a id='2.6'></a>\n",
        "## **6 Performing Descriptive Analysis on Categorical Attributes.**"
      ],
      "metadata": {
        "id": "CiET5487sw5-"
      }
    },
    {
      "cell_type": "code",
      "source": [
        "train_df.describe(include=\"O\").T"
      ],
      "metadata": {
        "execution": {
          "iopub.status.busy": "2024-06-22T06:16:21.722641Z",
          "iopub.execute_input": "2024-06-22T06:16:21.723007Z",
          "iopub.status.idle": "2024-06-22T06:16:28.933459Z",
          "shell.execute_reply.started": "2024-06-22T06:16:21.722978Z",
          "shell.execute_reply": "2024-06-22T06:16:28.932367Z"
        },
        "trusted": true,
        "id": "8TOn_u3Osw6B"
      },
      "execution_count": null,
      "outputs": []
    },
    {
      "cell_type": "markdown",
      "source": [
        "<a id='2.7'></a>\n",
        "## **7. Checking Unique Values of Attributes.**"
      ],
      "metadata": {
        "id": "4fdJDDy6sw6B"
      }
    },
    {
      "cell_type": "code",
      "source": [
        "cols = train_df.columns\n",
        "\n",
        "for column in cols:\n",
        "    print('Unique values of ',column , 'with dtype',train_df[column].dtype, 'have total values',train_df[column].nunique(),'->',  train_df[column].unique())\n",
        "    print('-'*100)"
      ],
      "metadata": {
        "execution": {
          "iopub.status.busy": "2024-06-22T06:16:28.934645Z",
          "iopub.execute_input": "2024-06-22T06:16:28.934976Z",
          "iopub.status.idle": "2024-06-22T06:16:35.672918Z",
          "shell.execute_reply.started": "2024-06-22T06:16:28.934948Z",
          "shell.execute_reply": "2024-06-22T06:16:35.671654Z"
        },
        "trusted": true,
        "id": "9GUSv9BHsw6B"
      },
      "execution_count": null,
      "outputs": []
    },
    {
      "cell_type": "markdown",
      "source": [
        "<div style=\"border-radius:10px; border:#808080 solid; padding: 15px; background-color: ##F0E68C ; font-size:100%; text-align:left\">\n",
        "\n",
        "<h3 align=\"left\"><font color=brown> 🔍 Inference:</font></h3>\n",
        "\n",
        "* Observed that some values are repeated due to their wrong format , for example in column 'ct_ftp_cmd' the unique values are [0 ' ' '1' 1 '0' 2 8 '2' 4 5 3 6 '4'] in which we see that same values reapeated and treated as differently\n",
        "* In column 'is_ftp_login' unique values are [0. 1. 2. 4.] which is not correct because according to given NB15_features.csv this column is a binary column"
      ],
      "metadata": {
        "id": "82AuN5tmsw6B"
      }
    },
    {
      "cell_type": "markdown",
      "source": [
        "## **Handling ct_ftp_cmd**"
      ],
      "metadata": {
        "execution": {
          "iopub.status.busy": "2024-05-31T13:46:13.497075Z",
          "iopub.execute_input": "2024-05-31T13:46:13.497811Z",
          "iopub.status.idle": "2024-05-31T13:46:13.50332Z",
          "shell.execute_reply.started": "2024-05-31T13:46:13.497762Z",
          "shell.execute_reply": "2024-05-31T13:46:13.50192Z"
        },
        "id": "skdF7isnsw6B"
      }
    },
    {
      "cell_type": "code",
      "source": [
        "train_df['ct_ftp_cmd'] = train_df['ct_ftp_cmd'].astype('str')"
      ],
      "metadata": {
        "execution": {
          "iopub.status.busy": "2024-06-22T06:16:35.674327Z",
          "iopub.execute_input": "2024-06-22T06:16:35.674757Z",
          "iopub.status.idle": "2024-06-22T06:16:36.12195Z",
          "shell.execute_reply.started": "2024-06-22T06:16:35.674716Z",
          "shell.execute_reply": "2024-06-22T06:16:36.120774Z"
        },
        "trusted": true,
        "id": "Y73_Xwiisw6C"
      },
      "execution_count": null,
      "outputs": []
    },
    {
      "cell_type": "code",
      "source": [
        "train_df['ct_ftp_cmd'].dtype"
      ],
      "metadata": {
        "execution": {
          "iopub.status.busy": "2024-06-22T06:16:36.12325Z",
          "iopub.execute_input": "2024-06-22T06:16:36.123601Z",
          "iopub.status.idle": "2024-06-22T06:16:36.130757Z",
          "shell.execute_reply.started": "2024-06-22T06:16:36.123571Z",
          "shell.execute_reply": "2024-06-22T06:16:36.129506Z"
        },
        "trusted": true,
        "id": "HBTM-lUqsw6C"
      },
      "execution_count": null,
      "outputs": []
    },
    {
      "cell_type": "code",
      "source": [
        "train_df['ct_ftp_cmd'].unique()"
      ],
      "metadata": {
        "execution": {
          "iopub.status.busy": "2024-06-22T06:16:36.132397Z",
          "iopub.execute_input": "2024-06-22T06:16:36.132818Z",
          "iopub.status.idle": "2024-06-22T06:16:36.312516Z",
          "shell.execute_reply.started": "2024-06-22T06:16:36.132788Z",
          "shell.execute_reply": "2024-06-22T06:16:36.311396Z"
        },
        "trusted": true,
        "id": "yjnX109Tsw6C"
      },
      "execution_count": null,
      "outputs": []
    },
    {
      "cell_type": "code",
      "source": [
        "train_df['ct_ftp_cmd'] = train_df['ct_ftp_cmd'].replace(' ', '0')"
      ],
      "metadata": {
        "execution": {
          "iopub.status.busy": "2024-06-22T06:16:36.322878Z",
          "iopub.execute_input": "2024-06-22T06:16:36.323279Z",
          "iopub.status.idle": "2024-06-22T06:16:36.738469Z",
          "shell.execute_reply.started": "2024-06-22T06:16:36.323237Z",
          "shell.execute_reply": "2024-06-22T06:16:36.737438Z"
        },
        "trusted": true,
        "id": "vyXpN2TYsw6C"
      },
      "execution_count": null,
      "outputs": []
    },
    {
      "cell_type": "code",
      "source": [
        "train_df['ct_ftp_cmd'] = train_df['ct_ftp_cmd'].astype('int')"
      ],
      "metadata": {
        "execution": {
          "iopub.status.busy": "2024-06-22T06:16:36.739876Z",
          "iopub.execute_input": "2024-06-22T06:16:36.740312Z",
          "iopub.status.idle": "2024-06-22T06:16:37.071365Z",
          "shell.execute_reply.started": "2024-06-22T06:16:36.740272Z",
          "shell.execute_reply": "2024-06-22T06:16:37.070385Z"
        },
        "trusted": true,
        "id": "MsWFlf0gsw6C"
      },
      "execution_count": null,
      "outputs": []
    },
    {
      "cell_type": "markdown",
      "source": [
        "## **Handling is_ftp_login**"
      ],
      "metadata": {
        "id": "LbGAzr66sw6C"
      }
    },
    {
      "cell_type": "code",
      "source": [
        "def convert_to_binary(df, column):\n",
        "    df[column] = (df[column] > 0).astype(int)\n",
        "    return df"
      ],
      "metadata": {
        "execution": {
          "iopub.status.busy": "2024-06-22T06:16:37.072677Z",
          "iopub.execute_input": "2024-06-22T06:16:37.073101Z",
          "iopub.status.idle": "2024-06-22T06:16:37.079465Z",
          "shell.execute_reply.started": "2024-06-22T06:16:37.073065Z",
          "shell.execute_reply": "2024-06-22T06:16:37.078351Z"
        },
        "trusted": true,
        "id": "C2lvHPZGsw6C"
      },
      "execution_count": null,
      "outputs": []
    },
    {
      "cell_type": "code",
      "source": [
        "column = 'is_ftp_login'\n",
        "convert_to_binary(train_df, column)"
      ],
      "metadata": {
        "execution": {
          "iopub.status.busy": "2024-06-22T06:16:37.081429Z",
          "iopub.execute_input": "2024-06-22T06:16:37.082103Z",
          "iopub.status.idle": "2024-06-22T06:16:37.142416Z",
          "shell.execute_reply.started": "2024-06-22T06:16:37.082063Z",
          "shell.execute_reply": "2024-06-22T06:16:37.141272Z"
        },
        "trusted": true,
        "id": "c5MvRm4Vsw6C"
      },
      "execution_count": null,
      "outputs": []
    },
    {
      "cell_type": "code",
      "source": [
        "#Converting in string first to ensure consistency\n",
        "train_df['sport'] = train_df['sport'].astype('str')"
      ],
      "metadata": {
        "execution": {
          "iopub.status.busy": "2024-06-22T06:16:37.143766Z",
          "iopub.execute_input": "2024-06-22T06:16:37.144113Z",
          "iopub.status.idle": "2024-06-22T06:16:38.252865Z",
          "shell.execute_reply.started": "2024-06-22T06:16:37.144083Z",
          "shell.execute_reply": "2024-06-22T06:16:38.251922Z"
        },
        "trusted": true,
        "id": "COSJp6Plsw6C"
      },
      "execution_count": null,
      "outputs": []
    },
    {
      "cell_type": "code",
      "source": [
        "# Handling non-integer values or NaNs\n",
        "train_df['sport'] = pd.to_numeric(train_df['sport'], errors='coerce').fillna(0).astype(int)"
      ],
      "metadata": {
        "execution": {
          "iopub.status.busy": "2024-06-22T06:16:38.254273Z",
          "iopub.execute_input": "2024-06-22T06:16:38.254635Z",
          "iopub.status.idle": "2024-06-22T06:16:40.591272Z",
          "shell.execute_reply.started": "2024-06-22T06:16:38.254604Z",
          "shell.execute_reply": "2024-06-22T06:16:40.590364Z"
        },
        "trusted": true,
        "id": "496DdDKCsw6D"
      },
      "execution_count": null,
      "outputs": []
    },
    {
      "cell_type": "code",
      "source": [
        "#Converting in string first to ensure consistency\n",
        "train_df['dsport'] = train_df['dsport'].astype('str')"
      ],
      "metadata": {
        "execution": {
          "iopub.status.busy": "2024-06-22T06:16:40.592679Z",
          "iopub.execute_input": "2024-06-22T06:16:40.593067Z",
          "iopub.status.idle": "2024-06-22T06:16:41.139367Z",
          "shell.execute_reply.started": "2024-06-22T06:16:40.593037Z",
          "shell.execute_reply": "2024-06-22T06:16:41.137994Z"
        },
        "trusted": true,
        "id": "E9beAvTasw6D"
      },
      "execution_count": null,
      "outputs": []
    },
    {
      "cell_type": "code",
      "source": [
        "# Handling non-integer values or NaNs\n",
        "train_df['dsport'] = pd.to_numeric(train_df['dsport'], errors='coerce').fillna(0).astype(int)"
      ],
      "metadata": {
        "execution": {
          "iopub.status.busy": "2024-06-22T06:16:41.140665Z",
          "iopub.execute_input": "2024-06-22T06:16:41.141052Z",
          "iopub.status.idle": "2024-06-22T06:16:43.547144Z",
          "shell.execute_reply.started": "2024-06-22T06:16:41.14102Z",
          "shell.execute_reply": "2024-06-22T06:16:43.546069Z"
        },
        "trusted": true,
        "id": "7cnw9MI8sw6D"
      },
      "execution_count": null,
      "outputs": []
    },
    {
      "cell_type": "markdown",
      "source": [
        "\n",
        "# 3 | Exploratory Data Analysis (EDA)\n",
        "\n"
      ],
      "metadata": {
        "id": "k1mHePT6sw6D"
      }
    },
    {
      "cell_type": "markdown",
      "source": [
        "<a id='3.1'></a>\n",
        "## **1. Checking for outliers**"
      ],
      "metadata": {
        "id": "Jbyf7iOVsw6D"
      }
    },
    {
      "cell_type": "code",
      "source": [
        "numerical_columns = train_df.select_dtypes(include=['float64', 'int64']).columns.tolist()\n",
        "len(numerical_columns)"
      ],
      "metadata": {
        "execution": {
          "iopub.status.busy": "2024-06-22T06:16:43.548327Z",
          "iopub.execute_input": "2024-06-22T06:16:43.54865Z",
          "iopub.status.idle": "2024-06-22T06:16:44.202728Z",
          "shell.execute_reply.started": "2024-06-22T06:16:43.548621Z",
          "shell.execute_reply": "2024-06-22T06:16:44.201597Z"
        },
        "trusted": true,
        "id": "EwTnGDNqsw6D"
      },
      "execution_count": null,
      "outputs": []
    },
    {
      "cell_type": "code",
      "source": [
        "import math\n",
        "\n",
        "# Number of numerical columns\n",
        "num_columns = len(numerical_columns)\n",
        "\n",
        "# Calculate the number of rows and columns needed for the subplots\n",
        "num_cols = 3  # Fixed number of columns\n",
        "num_rows = math.ceil(num_columns / num_cols)  # Calculate rows needed\n",
        "\n",
        "plt.figure(figsize=(18, num_rows * 3))\n",
        "\n",
        "sns.set_palette(\"husl\")\n",
        "sns.set(style=\"whitegrid\")\n",
        "\n",
        "for i, col in enumerate(numerical_columns, 1):\n",
        "    plt.subplot(num_rows, num_cols, i)\n",
        "    sns.boxplot(x=train_df[col], color='skyblue', width=0.5)\n",
        "    plt.title(col)\n",
        "    plt.xlabel(\"\")\n",
        "\n",
        "plt.suptitle(\"Distribution of Key Medical Indicators\", y=1.02, fontsize=16)\n",
        "plt.tight_layout(rect=[0, 0, 1, 0.95])\n",
        "plt.show()"
      ],
      "metadata": {
        "execution": {
          "iopub.status.busy": "2024-06-22T06:16:44.204146Z",
          "iopub.execute_input": "2024-06-22T06:16:44.20456Z",
          "iopub.status.idle": "2024-06-22T06:16:44.212739Z",
          "shell.execute_reply.started": "2024-06-22T06:16:44.204528Z",
          "shell.execute_reply": "2024-06-22T06:16:44.211425Z"
        },
        "trusted": true,
        "id": "-14WxzySsw6D"
      },
      "execution_count": null,
      "outputs": []
    },
    {
      "cell_type": "code",
      "source": [
        "# Extract numerical columns\n",
        "numerical_columns = train_df.select_dtypes(include=['float64', 'int64']).columns.tolist()\n",
        "\n",
        "# Columns to exclude\n",
        "exclude_columns = ['sport', 'swim', 'dwim', 'stcpb', 'dtcpb', 'Stime', 'Ltime']\n",
        "\n",
        "# Filter out the columns to exclude\n",
        "numerical_columns = [col for col in numerical_columns if col not in exclude_columns]"
      ],
      "metadata": {
        "execution": {
          "iopub.status.busy": "2024-06-22T06:16:44.21417Z",
          "iopub.execute_input": "2024-06-22T06:16:44.214595Z",
          "iopub.status.idle": "2024-06-22T06:16:44.858221Z",
          "shell.execute_reply.started": "2024-06-22T06:16:44.214554Z",
          "shell.execute_reply": "2024-06-22T06:16:44.857099Z"
        },
        "trusted": true,
        "id": "-8GPzwiTsw6E"
      },
      "execution_count": null,
      "outputs": []
    },
    {
      "cell_type": "code",
      "source": [
        "for col in numerical_columns:\n",
        "    median_value = train_df[col].median()\n",
        "    lower_bound = train_df[col].quantile(0.25) - 1.5 * (train_df[col].quantile(0.75) - train_df[col].quantile(0.25))\n",
        "    upper_bound = train_df[col].quantile(0.75) + 1.5 * (train_df[col].quantile(0.75) - train_df[col].quantile(0.25))\n",
        "    train_df[col] = train_df[col].apply(lambda x: median_value if x < lower_bound or x > upper_bound else x)"
      ],
      "metadata": {
        "execution": {
          "iopub.status.busy": "2024-06-22T06:16:44.859588Z",
          "iopub.execute_input": "2024-06-22T06:16:44.860021Z",
          "iopub.status.idle": "2024-06-22T06:18:05.930244Z",
          "shell.execute_reply.started": "2024-06-22T06:16:44.859983Z",
          "shell.execute_reply": "2024-06-22T06:18:05.9291Z"
        },
        "trusted": true,
        "id": "7fYFb7eRsw6E"
      },
      "execution_count": null,
      "outputs": []
    },
    {
      "cell_type": "markdown",
      "source": [
        "<a id='3.2'></a>\n",
        "## **2. Visualising Data Distribution and Skewness**"
      ],
      "metadata": {
        "id": "CfJvIPx3sw6E"
      }
    },
    {
      "cell_type": "code",
      "source": [
        "# Set the figure size and arrange plots horizontally in pairs\n",
        "numerical_features = train_df.select_dtypes(include=['number']).columns\n",
        "num_plots = len(numerical_features)\n",
        "num_rows = (num_plots + 1) // 2  # Ensure enough rows to accommodate all features\n",
        "fig, axes = plt.subplots(nrows=num_rows, ncols=2, figsize=(14, 7*num_rows))\n",
        "\n",
        "# Flatten the axes array for easy indexing\n",
        "axes = axes.flatten()\n",
        "\n",
        "# Loop through the selected columns and create histograms with density\n",
        "for i, col in enumerate(numerical_features):\n",
        "    sns.histplot(data=train_df, x=col, kde=True, ax=axes[i])\n",
        "    axes[i].set_title(f'Histogram with Density for {col}')\n",
        "    axes[i].set_xlabel(col)\n",
        "    axes[i].set_ylabel('Density')\n",
        "\n",
        "    # Calculate skewness\n",
        "    skewness = skew(train_df[col].dropna())\n",
        "    axes[i].text(0.5, 0.95, f'Skewness: {skewness:.2f}', horizontalalignment='center', verticalalignment='top', transform=axes[i].transAxes)\n",
        "\n",
        "# Remove any empty subplots if the number of features is odd\n",
        "if num_plots % 2 != 0:\n",
        "    fig.delaxes(axes[-1])\n",
        "\n",
        "plt.tight_layout()\n",
        "plt.show()"
      ],
      "metadata": {
        "execution": {
          "iopub.status.busy": "2024-06-22T06:18:05.931442Z",
          "iopub.execute_input": "2024-06-22T06:18:05.931778Z",
          "iopub.status.idle": "2024-06-22T06:18:05.939755Z",
          "shell.execute_reply.started": "2024-06-22T06:18:05.93175Z",
          "shell.execute_reply": "2024-06-22T06:18:05.938816Z"
        },
        "trusted": true,
        "id": "h2lLhMZOsw6E"
      },
      "execution_count": null,
      "outputs": []
    },
    {
      "cell_type": "markdown",
      "source": [
        "- |Skewness| < 1: The distribution is approximately symmetric.\n",
        "- |Skewness| > 1: The distribution is highly skewed.\n",
        "- |Skewness| between 1 and 2: Moderately skewed distribution."
      ],
      "metadata": {
        "id": "y6_8GkpJsw6E"
      }
    },
    {
      "cell_type": "code",
      "source": [
        "def transform(X):\n",
        "    eps = 1e-5\n",
        "    numerical_columns = X.select_dtypes(include=['float64', 'int64']).columns.tolist()\n",
        "\n",
        "    for col in numerical_columns:\n",
        "        skewness = skew(X[col])\n",
        "        if skewness > 0:  # Positive skew\n",
        "            X[col] = np.log(X[col] + eps)\n",
        "        elif skewness < 0:  # Negative skew\n",
        "            X[col] = np.log(np.max(X[col] + eps) - X[col] + eps)\n",
        "        else:  # Symmetric or zero skew\n",
        "            X[col] = X[col]  # No transformation needed\n",
        "\n",
        "    return X"
      ],
      "metadata": {
        "execution": {
          "iopub.status.busy": "2024-06-22T06:18:05.940832Z",
          "iopub.execute_input": "2024-06-22T06:18:05.941105Z",
          "iopub.status.idle": "2024-06-22T06:18:05.958786Z",
          "shell.execute_reply.started": "2024-06-22T06:18:05.941081Z",
          "shell.execute_reply": "2024-06-22T06:18:05.957568Z"
        },
        "trusted": true,
        "id": "x-VqYdKysw6E"
      },
      "execution_count": null,
      "outputs": []
    },
    {
      "cell_type": "code",
      "source": [
        "transform(train_df)"
      ],
      "metadata": {
        "execution": {
          "iopub.status.busy": "2024-06-22T06:18:05.960142Z",
          "iopub.execute_input": "2024-06-22T06:18:05.96048Z",
          "iopub.status.idle": "2024-06-22T06:18:09.325624Z",
          "shell.execute_reply.started": "2024-06-22T06:18:05.960452Z",
          "shell.execute_reply": "2024-06-22T06:18:09.324592Z"
        },
        "trusted": true,
        "id": "r7LkY2tpsw6F"
      },
      "execution_count": null,
      "outputs": []
    },
    {
      "cell_type": "markdown",
      "source": [
        "<a id='3.3'></a>\n",
        "## **3. Visualising Class Distribution**"
      ],
      "metadata": {
        "execution": {
          "iopub.status.busy": "2024-05-31T16:19:59.617034Z",
          "iopub.execute_input": "2024-05-31T16:19:59.617478Z",
          "iopub.status.idle": "2024-05-31T16:19:59.675072Z",
          "shell.execute_reply.started": "2024-05-31T16:19:59.61744Z",
          "shell.execute_reply": "2024-05-31T16:19:59.673865Z"
        },
        "id": "FenlmaFusw6F"
      }
    },
    {
      "cell_type": "code",
      "source": [
        "import matplotlib.pyplot as plt\n",
        "import seaborn as sns\n",
        "\n",
        "def pie_bar_plot(df, col):\n",
        "    plt.figure(figsize=(10, 6))\n",
        "\n",
        "    # Extract value counts for the specified column\n",
        "    value_counts = df[col].value_counts().sort_index()\n",
        "\n",
        "    ax1 = value_counts\n",
        "    plt.title(f\"Distribution by {col}\", fontweight=\"black\", size=14, pad=15)\n",
        "    colors = sns.color_palette('Set2', len(ax1))\n",
        "    plt.pie(ax1.values, labels=None, autopct=\"\", startangle=90, colors=colors)\n",
        "    center_circle = plt.Circle((0, 0), 0.4, fc='white')\n",
        "    fig = plt.gcf()\n",
        "    fig.gca().add_artist(center_circle)\n",
        "    plt.show()"
      ],
      "metadata": {
        "execution": {
          "iopub.status.busy": "2024-06-22T06:18:09.327126Z",
          "iopub.execute_input": "2024-06-22T06:18:09.327548Z",
          "iopub.status.idle": "2024-06-22T06:18:09.336133Z",
          "shell.execute_reply.started": "2024-06-22T06:18:09.327508Z",
          "shell.execute_reply": "2024-06-22T06:18:09.334917Z"
        },
        "trusted": true,
        "id": "k2MiAgHJsw6F"
      },
      "execution_count": null,
      "outputs": []
    },
    {
      "cell_type": "code",
      "source": [
        "pie_bar_plot(train_df, 'attack_cat')"
      ],
      "metadata": {
        "execution": {
          "iopub.status.busy": "2024-06-22T06:18:09.337684Z",
          "iopub.execute_input": "2024-06-22T06:18:09.338115Z",
          "iopub.status.idle": "2024-06-22T06:18:09.99236Z",
          "shell.execute_reply.started": "2024-06-22T06:18:09.338076Z",
          "shell.execute_reply": "2024-06-22T06:18:09.990367Z"
        },
        "trusted": true,
        "id": "kT9ZHGV9sw6F"
      },
      "execution_count": null,
      "outputs": []
    },
    {
      "cell_type": "code",
      "source": [
        "# Print class distribution before resampling\n",
        "print(\"Before resampling:\", train_df['attack_cat'].value_counts())\n",
        "print()"
      ],
      "metadata": {
        "execution": {
          "iopub.status.busy": "2024-06-22T06:18:09.994669Z",
          "iopub.execute_input": "2024-06-22T06:18:09.995628Z",
          "iopub.status.idle": "2024-06-22T06:18:10.39366Z",
          "shell.execute_reply.started": "2024-06-22T06:18:09.995572Z",
          "shell.execute_reply": "2024-06-22T06:18:10.392617Z"
        },
        "trusted": true,
        "id": "ouqv9EHtsw6F"
      },
      "execution_count": null,
      "outputs": []
    },
    {
      "cell_type": "markdown",
      "source": [
        "<center><div style='color:#ffffff;\n",
        "           display:inline-block;\n",
        "           padding: 5px 5px 5px 5px;\n",
        "           border-radius:5px;\n",
        "           background-color:#78D1E1;\n",
        "           font-size:100%;'><a href=#toc style='text-decoration: none; color:#03001C;'>⬆️ Back To Top</a></div></center>\n",
        "\n",
        "<a id='4'></a>\n",
        "# 4 | Preprocessing\n",
        "\n",
        "<div style=\"padding: 4px;color:white;margin:10;font-size:200%;text-align:center;display:fill;border-radius:10px;overflow:hidden;background-image: url(https://i.postimg.cc/fTDmwnkQ/Miaka.png); background-size: 100% auto;\"></div>\n"
      ],
      "metadata": {
        "id": "S2tBwMv8sw6F"
      }
    },
    {
      "cell_type": "markdown",
      "source": [
        "<a id='4.1'></a>\n",
        "## **1. Featutre Engineering**"
      ],
      "metadata": {
        "id": "q1GyFDSRsw6F"
      }
    },
    {
      "cell_type": "code",
      "source": [
        "def generate_features(df):\n",
        "    # Duration\n",
        "    df['duration'] = df['Ltime'] - df['Stime']\n",
        "\n",
        "    # Ratios\n",
        "    df['byte_ratio'] = df['sbytes'] / (df['dbytes'] + 1)\n",
        "    df['pkt_ratio'] = df['Spkts'] / (df['Dpkts'] + 1)\n",
        "    df['load_ratio'] = df['Sload'] / (df['Dload'] + 1)\n",
        "    df['jit_ratio'] = df['Sjit'] / (df['Djit'] + 1)\n",
        "    df['inter_pkt_ratio'] = df['Sintpkt'] / (df['Dintpkt'] + 1)\n",
        "    df['tcp_setup_ratio'] = df['tcprtt'] / (df['synack'] + df['ackdat'] + 1)\n",
        "\n",
        "    # Aggregate Features\n",
        "    df['total_bytes'] = df['sbytes'] + df['dbytes']\n",
        "    df['total_pkts'] = df['Spkts'] + df['Dpkts']\n",
        "    df['total_load'] = df['Sload'] + df['Dload']\n",
        "    df['total_jitter'] = df['Sjit'] + df['Djit']\n",
        "    df['total_inter_pkt'] = df['Sintpkt'] + df['Dintpkt']\n",
        "    df['total_tcp_setup'] = df['tcprtt'] + df['synack'] + df['ackdat']\n",
        "\n",
        "    # Interaction Features\n",
        "    df['byte_pkt_interaction_src'] = df['sbytes'] * df['Spkts']\n",
        "    df['byte_pkt_interaction_dst'] = df['dbytes'] * df['Dpkts']\n",
        "    df['load_jit_interaction_src'] = df['Sload'] * df['Sjit']\n",
        "    df['load_jit_interaction_dst'] = df['Dload'] * df['Djit']\n",
        "    df['pkt_jit_interaction_src'] = df['Spkts'] * df['Sjit']\n",
        "    df['pkt_jit_interaction_dst'] = df['Dpkts'] * df['Djit']\n",
        "\n",
        "    # Statistical Features\n",
        "    df['mean_pkt_size'] = df['smeansz'] + df['dmeansz']\n",
        "    df['tcp_seq_diff'] = df['stcpb'] - df['dtcpb']\n",
        "\n",
        "    return df"
      ],
      "metadata": {
        "execution": {
          "iopub.status.busy": "2024-06-22T06:18:10.39517Z",
          "iopub.execute_input": "2024-06-22T06:18:10.395594Z",
          "iopub.status.idle": "2024-06-22T06:18:10.408869Z",
          "shell.execute_reply.started": "2024-06-22T06:18:10.395555Z",
          "shell.execute_reply": "2024-06-22T06:18:10.407847Z"
        },
        "trusted": true,
        "id": "5v9--YIisw6F"
      },
      "execution_count": null,
      "outputs": []
    },
    {
      "cell_type": "code",
      "source": [
        "generate_features(train_df)"
      ],
      "metadata": {
        "execution": {
          "iopub.status.busy": "2024-06-22T06:18:10.410556Z",
          "iopub.execute_input": "2024-06-22T06:18:10.410999Z",
          "iopub.status.idle": "2024-06-22T06:18:10.736835Z",
          "shell.execute_reply.started": "2024-06-22T06:18:10.410956Z",
          "shell.execute_reply": "2024-06-22T06:18:10.735748Z"
        },
        "trusted": true,
        "id": "Uhmpzypssw6G"
      },
      "execution_count": null,
      "outputs": []
    },
    {
      "cell_type": "code",
      "source": [
        "# Drop the specified columns from both train_df and test_df\n",
        "columns_to_drop = ['sport', 'dsport', 'proto','srcip', 'dstip','state', 'service']\n",
        "train_df.drop(columns=columns_to_drop, inplace=True)"
      ],
      "metadata": {
        "execution": {
          "iopub.status.busy": "2024-06-22T06:18:10.738251Z",
          "iopub.execute_input": "2024-06-22T06:18:10.738607Z",
          "iopub.status.idle": "2024-06-22T06:18:11.529437Z",
          "shell.execute_reply.started": "2024-06-22T06:18:10.738579Z",
          "shell.execute_reply": "2024-06-22T06:18:11.528261Z"
        },
        "trusted": true,
        "id": "_teebeRksw6G"
      },
      "execution_count": null,
      "outputs": []
    },
    {
      "cell_type": "code",
      "source": [
        "#Checking the categorical columns\n",
        "cat_columns = train_df.select_dtypes(include=['O']).columns.tolist()\n",
        "cat_columns"
      ],
      "metadata": {
        "execution": {
          "iopub.status.busy": "2024-06-22T06:18:11.530663Z",
          "iopub.execute_input": "2024-06-22T06:18:11.53101Z",
          "iopub.status.idle": "2024-06-22T06:18:11.571884Z",
          "shell.execute_reply.started": "2024-06-22T06:18:11.530981Z",
          "shell.execute_reply": "2024-06-22T06:18:11.570666Z"
        },
        "trusted": true,
        "id": "Bu0X_L5isw6G"
      },
      "execution_count": null,
      "outputs": []
    },
    {
      "cell_type": "markdown",
      "source": [
        "<a id='4.2'></a>\n",
        "## **2. Target feature Encoding**"
      ],
      "metadata": {
        "id": "UBdQ6qousw6H"
      }
    },
    {
      "cell_type": "code",
      "source": [
        "label_encoder = LabelEncoder()\n",
        "ohe = OneHotEncoder()"
      ],
      "metadata": {
        "execution": {
          "iopub.status.busy": "2024-06-22T06:18:11.573377Z",
          "iopub.execute_input": "2024-06-22T06:18:11.573806Z",
          "iopub.status.idle": "2024-06-22T06:18:11.579507Z",
          "shell.execute_reply.started": "2024-06-22T06:18:11.573769Z",
          "shell.execute_reply": "2024-06-22T06:18:11.578251Z"
        },
        "trusted": true,
        "id": "zn8pPrc8sw6H"
      },
      "execution_count": null,
      "outputs": []
    },
    {
      "cell_type": "code",
      "source": [
        "train_df['attack_cat'] = label_encoder.fit_transform(train_df['attack_cat'])"
      ],
      "metadata": {
        "execution": {
          "iopub.status.busy": "2024-06-22T06:18:11.580908Z",
          "iopub.execute_input": "2024-06-22T06:18:11.58126Z",
          "iopub.status.idle": "2024-06-22T06:18:12.258215Z",
          "shell.execute_reply.started": "2024-06-22T06:18:11.581232Z",
          "shell.execute_reply": "2024-06-22T06:18:12.25691Z"
        },
        "trusted": true,
        "id": "KFqrA46Tsw6H"
      },
      "execution_count": null,
      "outputs": []
    },
    {
      "cell_type": "code",
      "source": [
        "label_mapping = dict(zip(label_encoder.classes_, label_encoder.transform(label_encoder.classes_)))\n",
        "print(\"Label Mapping:\")\n",
        "print(label_mapping)"
      ],
      "metadata": {
        "execution": {
          "iopub.status.busy": "2024-06-22T06:18:12.259564Z",
          "iopub.execute_input": "2024-06-22T06:18:12.259916Z",
          "iopub.status.idle": "2024-06-22T06:18:12.266363Z",
          "shell.execute_reply.started": "2024-06-22T06:18:12.259884Z",
          "shell.execute_reply": "2024-06-22T06:18:12.265158Z"
        },
        "trusted": true,
        "id": "_dDYR_wRsw6H"
      },
      "execution_count": null,
      "outputs": []
    },
    {
      "cell_type": "markdown",
      "source": [
        "<a id='4.3'></a>\n",
        "## **3. checking Highly Correlated Features**"
      ],
      "metadata": {
        "id": "U9zrDdF0sw6H"
      }
    },
    {
      "cell_type": "code",
      "source": [
        "plt.figure(figsize=(40,20))\n",
        "plt.title(\"Correlation Plot\")\n",
        "sns.heatmap(train_df.corr(),cmap='YlGnBu')"
      ],
      "metadata": {
        "execution": {
          "iopub.status.busy": "2024-06-22T06:18:12.267825Z",
          "iopub.execute_input": "2024-06-22T06:18:12.268214Z",
          "iopub.status.idle": "2024-06-22T06:18:37.984639Z",
          "shell.execute_reply.started": "2024-06-22T06:18:12.268178Z",
          "shell.execute_reply": "2024-06-22T06:18:37.98318Z"
        },
        "trusted": true,
        "id": "PUKv-sjcsw6H"
      },
      "execution_count": null,
      "outputs": []
    },
    {
      "cell_type": "code",
      "source": [
        "# Calculate the correlation matrix\n",
        "correlation_matrix = train_df.corr()\n",
        "\n",
        "# Create a mask to identify the features with a correlation coefficient greater than or equal to 0.75\n",
        "high_correlation_mask = correlation_matrix >= 0.75\n",
        "\n",
        "# Identify and list the highly correlated features\n",
        "highly_correlated_features = []\n",
        "\n",
        "for feature in high_correlation_mask.columns:\n",
        "    correlated_with = high_correlation_mask.index[high_correlation_mask[feature]].tolist()\n",
        "    for correlated_feature in correlated_with:\n",
        "        if feature != correlated_feature and (correlated_feature, feature) not in highly_correlated_features:\n",
        "            highly_correlated_features.append((feature, correlated_feature))\n",
        "\n",
        "# Print the highly correlated features\n",
        "print(\"Highly correlated features:\")\n",
        "for feature1, feature2 in highly_correlated_features:\n",
        "    print(f\"{feature1} and {feature2}\")\n"
      ],
      "metadata": {
        "execution": {
          "iopub.status.busy": "2024-06-22T06:18:37.986116Z",
          "iopub.execute_input": "2024-06-22T06:18:37.986478Z",
          "iopub.status.idle": "2024-06-22T06:19:00.79762Z",
          "shell.execute_reply.started": "2024-06-22T06:18:37.986447Z",
          "shell.execute_reply": "2024-06-22T06:19:00.79649Z"
        },
        "trusted": true,
        "id": "tp7o5Uq_sw6H"
      },
      "execution_count": null,
      "outputs": []
    },
    {
      "cell_type": "code",
      "source": [
        "# Create a set of features to drop\n",
        "features_to_drop = set()\n",
        "\n",
        "# Iterate over the highly correlated features and add one of each pair to the drop list\n",
        "for feature1, feature2 in highly_correlated_features:\n",
        "    if feature1 not in features_to_drop and feature2 not in features_to_drop:\n",
        "        features_to_drop.add(feature2)  # You can choose feature1 or feature2 to drop\n",
        "\n",
        "# Drop the features from the DataFrame\n",
        "train_df = train_df.drop(columns=features_to_drop)\n",
        "\n",
        "# Print the remaining features\n",
        "print(\"Remaining features after dropping highly correlated ones:\")\n",
        "print(train_df.columns)"
      ],
      "metadata": {
        "execution": {
          "iopub.status.busy": "2024-06-22T06:19:00.799217Z",
          "iopub.execute_input": "2024-06-22T06:19:00.799568Z",
          "iopub.status.idle": "2024-06-22T06:19:01.002009Z",
          "shell.execute_reply.started": "2024-06-22T06:19:00.799538Z",
          "shell.execute_reply": "2024-06-22T06:19:01.000825Z"
        },
        "trusted": true,
        "id": "My6xJr8jsw6H"
      },
      "execution_count": null,
      "outputs": []
    },
    {
      "cell_type": "markdown",
      "source": [
        "<a id='4.4'></a>\n",
        "## **4. Splitting the features in dependent and independent features**\n"
      ],
      "metadata": {
        "id": "gpjnZacSsw6I"
      }
    },
    {
      "cell_type": "code",
      "source": [
        "x = train_df.drop(['attack_cat'], axis=1)\n",
        "y = train_df[['attack_cat']]"
      ],
      "metadata": {
        "execution": {
          "iopub.status.busy": "2024-06-22T06:19:01.003174Z",
          "iopub.execute_input": "2024-06-22T06:19:01.003496Z",
          "iopub.status.idle": "2024-06-22T06:19:01.214993Z",
          "shell.execute_reply.started": "2024-06-22T06:19:01.003468Z",
          "shell.execute_reply": "2024-06-22T06:19:01.213906Z"
        },
        "trusted": true,
        "id": "EJ4yaHE-sw6I"
      },
      "execution_count": null,
      "outputs": []
    },
    {
      "cell_type": "markdown",
      "source": [
        "<a id='4.5'></a>\n",
        "## **5. Applying SMOTE to balance the unbalanced data**\n",
        "\n"
      ],
      "metadata": {
        "id": "J1Kx0ZA0sw6I"
      }
    },
    {
      "cell_type": "code",
      "source": [
        "from imblearn.over_sampling import SMOTE\n",
        "from imblearn.under_sampling import RandomUnderSampler\n",
        "from imblearn.pipeline import Pipeline\n",
        "import pandas as pd\n",
        "\n",
        "# Define the desired number of samples for each class\n",
        "desired_count = 15000\n",
        "\n",
        "# Define the oversampling strategy for SMOTE\n",
        "oversample_strategy = {i: desired_count for i in range(len(y.value_counts())) if y.value_counts()[i] < desired_count}\n",
        "\n",
        "# Define the undersampling strategy for RandomUnderSampler\n",
        "undersample_strategy = {i: desired_count for i in range(len(y.value_counts())) if y.value_counts()[i] > desired_count}\n",
        "\n",
        "# Create the SMOTE and RandomUnderSampler objects\n",
        "smote = SMOTE(sampling_strategy=oversample_strategy)\n",
        "undersample = RandomUnderSampler(sampling_strategy=undersample_strategy)\n",
        "\n",
        "# Combine SMOTE and RandomUnderSampler in a pipeline\n",
        "pipeline = Pipeline(steps=[('smote', smote), ('undersample', undersample)])\n",
        "\n",
        "# Print class distribution before resampling\n",
        "print(\"Before resampling:\", y.value_counts())\n",
        "print()\n",
        "\n",
        "# Apply the pipeline to resample the dataset\n",
        "x_resampled, y_resampled = pipeline.fit_resample(x, y)\n",
        "\n",
        "# Print class distribution after resampling\n",
        "print(\"After resampling:\", y_resampled.value_counts())"
      ],
      "metadata": {
        "execution": {
          "iopub.status.busy": "2024-06-22T06:19:01.216494Z",
          "iopub.execute_input": "2024-06-22T06:19:01.217445Z",
          "iopub.status.idle": "2024-06-22T06:19:05.665757Z",
          "shell.execute_reply.started": "2024-06-22T06:19:01.217404Z",
          "shell.execute_reply": "2024-06-22T06:19:05.664434Z"
        },
        "trusted": true,
        "id": "H173MCc3sw6I"
      },
      "execution_count": null,
      "outputs": []
    },
    {
      "cell_type": "code",
      "source": [
        "x = x_resampled\n",
        "y = y_resampled"
      ],
      "metadata": {
        "execution": {
          "iopub.status.busy": "2024-06-22T06:19:05.667168Z",
          "iopub.execute_input": "2024-06-22T06:19:05.667797Z",
          "iopub.status.idle": "2024-06-22T06:19:05.672684Z",
          "shell.execute_reply.started": "2024-06-22T06:19:05.667765Z",
          "shell.execute_reply": "2024-06-22T06:19:05.671501Z"
        },
        "trusted": true,
        "id": "ZQ6rg5k3sw6J"
      },
      "execution_count": null,
      "outputs": []
    },
    {
      "cell_type": "markdown",
      "source": [
        "<a id='4.6'></a>\n",
        "## **6. Checking Feature Importance**\n"
      ],
      "metadata": {
        "id": "S8WlU__Vsw6J"
      }
    },
    {
      "cell_type": "code",
      "source": [
        "discrete_features = x.dtypes == int\n",
        "\n",
        "def mi_score_maker(x,y,discrete_features):\n",
        "    scores = mutual_info_regression(x,y,discrete_features=discrete_features)\n",
        "    df = pd.DataFrame({\n",
        "        'Features':x.columns,\n",
        "        'Scores':scores\n",
        "    })\n",
        "    df = df.sort_values(['Scores'],ascending=False).reset_index(drop=True)\n",
        "    return df"
      ],
      "metadata": {
        "execution": {
          "iopub.status.busy": "2024-06-22T06:19:05.674278Z",
          "iopub.execute_input": "2024-06-22T06:19:05.674639Z",
          "iopub.status.idle": "2024-06-22T06:19:05.693115Z",
          "shell.execute_reply.started": "2024-06-22T06:19:05.674609Z",
          "shell.execute_reply": "2024-06-22T06:19:05.691452Z"
        },
        "trusted": true,
        "id": "J57PTYhDsw6J"
      },
      "execution_count": null,
      "outputs": []
    },
    {
      "cell_type": "code",
      "source": [
        "mi_scores = mi_score_maker(x,y.astype('float64'),discrete_features)\n",
        "\n",
        "mi_scores"
      ],
      "metadata": {
        "execution": {
          "iopub.status.busy": "2024-06-22T06:19:05.694856Z",
          "iopub.execute_input": "2024-06-22T06:19:05.695267Z",
          "iopub.status.idle": "2024-06-22T06:19:46.671636Z",
          "shell.execute_reply.started": "2024-06-22T06:19:05.695212Z",
          "shell.execute_reply": "2024-06-22T06:19:46.670499Z"
        },
        "trusted": true,
        "id": "CKXF53-msw6J"
      },
      "execution_count": null,
      "outputs": []
    },
    {
      "cell_type": "code",
      "source": [
        "# Filter features with scores less than 0.001285\n",
        "low_score_features = mi_scores[mi_scores['Scores'] < 0.01]\n",
        "\n",
        "# Extract the feature names\n",
        "low_score_feature_names = low_score_features['Features'].tolist()\n",
        "\n",
        "# Print the list of low score feature names\n",
        "low_score_feature_names"
      ],
      "metadata": {
        "execution": {
          "iopub.status.busy": "2024-06-22T06:19:46.672945Z",
          "iopub.execute_input": "2024-06-22T06:19:46.673284Z",
          "iopub.status.idle": "2024-06-22T06:19:46.681885Z",
          "shell.execute_reply.started": "2024-06-22T06:19:46.673253Z",
          "shell.execute_reply": "2024-06-22T06:19:46.680824Z"
        },
        "trusted": true,
        "id": "uczAu_-Osw6J"
      },
      "execution_count": null,
      "outputs": []
    },
    {
      "cell_type": "code",
      "source": [
        "plt.figure(figsize=(10, 8))\n",
        "\n",
        "# Create the barplot\n",
        "sns.barplot(x='Scores', y='Features', data=mi_scores)\n",
        "\n",
        "# Add a title\n",
        "plt.title(\"Mutual Information Scores\", fontsize=16)\n",
        "\n",
        "# Rotate the y-axis labels (if needed)\n",
        "plt.yticks(rotation=0)\n",
        "\n",
        "# Rotate the x-axis labels (if needed)\n",
        "plt.xticks(rotation=45)\n",
        "\n",
        "# Display the plot\n",
        "plt.tight_layout()  # Adjusts the plot to ensure everything fits without overlap\n",
        "plt.show()"
      ],
      "metadata": {
        "execution": {
          "iopub.status.busy": "2024-06-22T06:19:46.683204Z",
          "iopub.execute_input": "2024-06-22T06:19:46.683559Z",
          "iopub.status.idle": "2024-06-22T06:19:47.544182Z",
          "shell.execute_reply.started": "2024-06-22T06:19:46.683522Z",
          "shell.execute_reply": "2024-06-22T06:19:47.543037Z"
        },
        "trusted": true,
        "id": "oirtG1T2sw6J"
      },
      "execution_count": null,
      "outputs": []
    },
    {
      "cell_type": "code",
      "source": [
        "x.drop(low_score_feature_names,axis=1, inplace = True)"
      ],
      "metadata": {
        "execution": {
          "iopub.status.busy": "2024-06-22T06:19:47.545799Z",
          "iopub.execute_input": "2024-06-22T06:19:47.546218Z",
          "iopub.status.idle": "2024-06-22T06:19:47.56545Z",
          "shell.execute_reply.started": "2024-06-22T06:19:47.546182Z",
          "shell.execute_reply": "2024-06-22T06:19:47.56442Z"
        },
        "trusted": true,
        "id": "6CvbgPZMsw6J"
      },
      "execution_count": null,
      "outputs": []
    },
    {
      "cell_type": "markdown",
      "source": [
        "\n",
        "## **7.Feature Scaling**\n"
      ],
      "metadata": {
        "id": "kQ7iAyjWsw6K"
      }
    },
    {
      "cell_type": "code",
      "source": [
        "scaler = StandardScaler()"
      ],
      "metadata": {
        "execution": {
          "iopub.status.busy": "2024-06-22T06:19:47.566798Z",
          "iopub.execute_input": "2024-06-22T06:19:47.567531Z",
          "iopub.status.idle": "2024-06-22T06:19:47.572667Z",
          "shell.execute_reply.started": "2024-06-22T06:19:47.567492Z",
          "shell.execute_reply": "2024-06-22T06:19:47.571595Z"
        },
        "trusted": true,
        "id": "7_d_mXgmsw6K"
      },
      "execution_count": null,
      "outputs": []
    },
    {
      "cell_type": "code",
      "source": [
        "x_scaled = scaler.fit_transform(x)"
      ],
      "metadata": {
        "execution": {
          "iopub.status.busy": "2024-06-22T06:19:47.573826Z",
          "iopub.execute_input": "2024-06-22T06:19:47.57419Z",
          "iopub.status.idle": "2024-06-22T06:19:47.637128Z",
          "shell.execute_reply.started": "2024-06-22T06:19:47.574161Z",
          "shell.execute_reply": "2024-06-22T06:19:47.635744Z"
        },
        "trusted": true,
        "id": "ruxnvLBssw6K"
      },
      "execution_count": null,
      "outputs": []
    },
    {
      "cell_type": "markdown",
      "source": [
        "<a id='4.8'></a>\n",
        "## **8. Checking Variance captured by features**"
      ],
      "metadata": {
        "id": "wMVrMphMsw6K"
      }
    },
    {
      "cell_type": "code",
      "source": [
        "pca = PCA()\n",
        "pca.fit(x_scaled)  # X_train is your training data\n",
        "explained_variance_ratio = pca.explained_variance_ratio_\n",
        "cumulative_variance_ratio = explained_variance_ratio.cumsum()\n",
        "\n",
        "plt.plot(cumulative_variance_ratio)\n",
        "plt.xlabel('Number of Components')\n",
        "plt.ylabel('Cumulative Explained Variance')\n",
        "plt.show()\n"
      ],
      "metadata": {
        "execution": {
          "iopub.status.busy": "2024-06-22T06:19:47.638496Z",
          "iopub.execute_input": "2024-06-22T06:19:47.638918Z",
          "iopub.status.idle": "2024-06-22T06:19:48.095778Z",
          "shell.execute_reply.started": "2024-06-22T06:19:47.638879Z",
          "shell.execute_reply": "2024-06-22T06:19:48.094649Z"
        },
        "trusted": true,
        "id": "GtccB9ISsw6K"
      },
      "execution_count": null,
      "outputs": []
    },
    {
      "cell_type": "markdown",
      "source": [
        "<div style=\"border-radius:10px; border:#808080 solid; padding: 15px; background-color: ##F0E68C ; font-size:100%; text-align:left\">\n",
        "\n",
        "<h3 align=\"left\"><font color=brown> 🔍 Inference:</font></h3>\n",
        "\n",
        "* No need to apply pca as all thw features are capturing full variance"
      ],
      "metadata": {
        "id": "stMGF8tysw6K"
      }
    },
    {
      "cell_type": "markdown",
      "source": [
        "<a id='4.9'></a>\n",
        "## **9. Dividing in train-test-split**\n"
      ],
      "metadata": {
        "id": "eObjBOlDsw6K"
      }
    },
    {
      "cell_type": "code",
      "source": [
        "x_train_scaled, x_test_scaled, y_train, y_test = train_test_split(x_scaled, y, test_size=0.2, random_state=42)"
      ],
      "metadata": {
        "execution": {
          "iopub.status.busy": "2024-06-22T06:19:48.097117Z",
          "iopub.execute_input": "2024-06-22T06:19:48.097454Z",
          "iopub.status.idle": "2024-06-22T06:19:48.149356Z",
          "shell.execute_reply.started": "2024-06-22T06:19:48.097425Z",
          "shell.execute_reply": "2024-06-22T06:19:48.148171Z"
        },
        "trusted": true,
        "id": "WR520mJQsw6L"
      },
      "execution_count": null,
      "outputs": []
    },
    {
      "cell_type": "markdown",
      "source": [
        "<a id='5'></a>\n",
        "# 5 | Baseline Model Building\n",
        "\n",
        "<div style=\"padding: 4px;color:white;margin:10;font-size:200%;text-align:center;display:fill;border-radius:10px;overflow:hidden;background-image: url(https://i.postimg.cc/fTDmwnkQ/Miaka.png); background-size: 100% auto;\"></div>\n"
      ],
      "metadata": {
        "id": "z_qIhlRMsw6L"
      }
    },
    {
      "cell_type": "code",
      "source": [
        "x_train_scaled.shape"
      ],
      "metadata": {
        "execution": {
          "iopub.status.busy": "2024-06-22T06:19:48.150831Z",
          "iopub.execute_input": "2024-06-22T06:19:48.151188Z",
          "iopub.status.idle": "2024-06-22T06:19:48.158589Z",
          "shell.execute_reply.started": "2024-06-22T06:19:48.151158Z",
          "shell.execute_reply": "2024-06-22T06:19:48.157405Z"
        },
        "trusted": true,
        "id": "NkxCVwXosw6L"
      },
      "execution_count": null,
      "outputs": []
    },
    {
      "cell_type": "code",
      "source": [
        "from tensorflow.keras.utils import to_categorical\n",
        "# Convert label-encoded target variable to one-hot encoding\n",
        "y_train_one_hot = to_categorical(y_train['attack_cat'], num_classes=11)\n",
        "y_test_one_hot = to_categorical(y_test['attack_cat'], num_classes=11)"
      ],
      "metadata": {
        "execution": {
          "iopub.status.busy": "2024-06-22T06:19:48.160158Z",
          "iopub.execute_input": "2024-06-22T06:19:48.160581Z",
          "iopub.status.idle": "2024-06-22T06:19:48.173192Z",
          "shell.execute_reply.started": "2024-06-22T06:19:48.160553Z",
          "shell.execute_reply": "2024-06-22T06:19:48.172025Z"
        },
        "trusted": true,
        "id": "MRqLDo85sw6L"
      },
      "execution_count": null,
      "outputs": []
    },
    {
      "cell_type": "code",
      "source": [
        "model = Sequential()"
      ],
      "metadata": {
        "execution": {
          "iopub.status.busy": "2024-06-22T06:33:29.296495Z",
          "iopub.execute_input": "2024-06-22T06:33:29.296912Z",
          "iopub.status.idle": "2024-06-22T06:33:29.303319Z",
          "shell.execute_reply.started": "2024-06-22T06:33:29.296881Z",
          "shell.execute_reply": "2024-06-22T06:33:29.301967Z"
        },
        "trusted": true,
        "id": "ONG8r3oksw6L"
      },
      "execution_count": null,
      "outputs": []
    },
    {
      "cell_type": "code",
      "source": [
        "# Input layer\n",
        "model.add(Dense(25, activation='relu', input_dim=20,\n",
        "                kernel_regularizer=l2,\n",
        "                kernel_initializer='glorot_uniform'))\n",
        "\n",
        "# Hidden layer with Batch Normalization and Dropout\n",
        "model.add(Dense(18, activation='relu',\n",
        "                kernel_regularizer=l2))\n",
        "model.add(BatchNormalization())\n",
        "\n",
        "# Hidden layer with Batch Normalization and Dropout\n",
        "model.add(Dense(12, activation='relu',\n",
        "                kernel_regularizer=l2))\n",
        "model.add(BatchNormalization())\n",
        "\n",
        "# Output layer\n",
        "model.add(Dense(11, activation='softmax'))\n",
        "\n",
        "# Print the model summary\n",
        "model.summary()"
      ],
      "metadata": {
        "execution": {
          "iopub.status.busy": "2024-06-22T06:33:29.505138Z",
          "iopub.execute_input": "2024-06-22T06:33:29.505564Z",
          "iopub.status.idle": "2024-06-22T06:33:29.611448Z",
          "shell.execute_reply.started": "2024-06-22T06:33:29.505535Z",
          "shell.execute_reply": "2024-06-22T06:33:29.610335Z"
        },
        "trusted": true,
        "id": "0wPkc_Wgsw6L"
      },
      "execution_count": null,
      "outputs": []
    },
    {
      "cell_type": "code",
      "source": [
        "from tensorflow.keras.optimizers import Adam\n",
        "adam = Adam(learning_rate=0.001)\n",
        "model.compile(loss='categorical_crossentropy',optimizer = 'adam',metrics=['accuracy'])"
      ],
      "metadata": {
        "execution": {
          "iopub.status.busy": "2024-06-22T06:33:29.707667Z",
          "iopub.execute_input": "2024-06-22T06:33:29.708674Z",
          "iopub.status.idle": "2024-06-22T06:33:29.721395Z",
          "shell.execute_reply.started": "2024-06-22T06:33:29.708635Z",
          "shell.execute_reply": "2024-06-22T06:33:29.720168Z"
        },
        "trusted": true,
        "id": "LcCg_ie3sw6L"
      },
      "execution_count": null,
      "outputs": []
    },
    {
      "cell_type": "code",
      "source": [
        "early_stopping_cb = tf.keras.callbacks.EarlyStopping(patience=5, restore_best_weights=True)\n",
        "\n",
        "CALLBACKS = [early_stopping_cb]\n",
        "\n",
        "history = model.fit(x_train_scaled,y_train_one_hot,epochs=100,validation_data = (x_test_scaled,y_test_one_hot),callbacks = CALLBACKS)"
      ],
      "metadata": {
        "execution": {
          "iopub.status.busy": "2024-06-22T06:33:30.456589Z",
          "iopub.execute_input": "2024-06-22T06:33:30.45704Z",
          "iopub.status.idle": "2024-06-22T06:36:19.638613Z",
          "shell.execute_reply.started": "2024-06-22T06:33:30.457006Z",
          "shell.execute_reply": "2024-06-22T06:36:19.637428Z"
        },
        "trusted": true,
        "id": "Y_svhLZhsw6L"
      },
      "execution_count": null,
      "outputs": []
    },
    {
      "cell_type": "code",
      "source": [
        "# Evaluate the model on the test data\n",
        "test_loss, test_accuracy = model.evaluate(x_test_scaled, y_test_one_hot)\n",
        "\n",
        "# Print the test loss and accuracy\n",
        "print(f\"Test Loss: {test_loss}\")\n",
        "print(f\"Test Accuracy: {test_accuracy}\")"
      ],
      "metadata": {
        "execution": {
          "iopub.status.busy": "2024-06-22T06:36:19.641102Z",
          "iopub.execute_input": "2024-06-22T06:36:19.641529Z",
          "iopub.status.idle": "2024-06-22T06:36:21.265157Z",
          "shell.execute_reply.started": "2024-06-22T06:36:19.641489Z",
          "shell.execute_reply": "2024-06-22T06:36:21.264006Z"
        },
        "trusted": true,
        "id": "4Hji83-Rsw6L"
      },
      "execution_count": null,
      "outputs": []
    },
    {
      "cell_type": "code",
      "source": [
        "plt.plot(history.history['loss'])\n",
        "\n",
        "plt.plot(history.history['val_loss'])"
      ],
      "metadata": {
        "execution": {
          "iopub.status.busy": "2024-06-22T06:36:21.266435Z",
          "iopub.execute_input": "2024-06-22T06:36:21.266791Z",
          "iopub.status.idle": "2024-06-22T06:36:21.644236Z",
          "shell.execute_reply.started": "2024-06-22T06:36:21.266759Z",
          "shell.execute_reply": "2024-06-22T06:36:21.643065Z"
        },
        "trusted": true,
        "id": "rJkojy-7sw6L"
      },
      "execution_count": null,
      "outputs": []
    },
    {
      "cell_type": "code",
      "source": [
        "plt.plot(history.history['accuracy'])\n",
        "plt.plot(history.history['val_accuracy'])"
      ],
      "metadata": {
        "execution": {
          "iopub.status.busy": "2024-06-22T06:36:21.647051Z",
          "iopub.execute_input": "2024-06-22T06:36:21.647517Z",
          "iopub.status.idle": "2024-06-22T06:36:22.029497Z",
          "shell.execute_reply.started": "2024-06-22T06:36:21.647474Z",
          "shell.execute_reply": "2024-06-22T06:36:22.028301Z"
        },
        "trusted": true,
        "id": "CwSwPebtsw6M"
      },
      "execution_count": null,
      "outputs": []
    },
    {
      "cell_type": "code",
      "source": [
        "pd.DataFrame(history.history).plot()"
      ],
      "metadata": {
        "execution": {
          "iopub.status.busy": "2024-06-22T06:36:22.030814Z",
          "iopub.execute_input": "2024-06-22T06:36:22.031142Z",
          "iopub.status.idle": "2024-06-22T06:36:22.409082Z",
          "shell.execute_reply.started": "2024-06-22T06:36:22.031112Z",
          "shell.execute_reply": "2024-06-22T06:36:22.407882Z"
        },
        "trusted": true,
        "id": "6N6II_rosw6M"
      },
      "execution_count": null,
      "outputs": []
    },
    {
      "cell_type": "markdown",
      "source": [
        "<a id='6'></a>\n",
        "# 6 | Hypertuning\n",
        "\n",
        "<div style=\"padding: 4px;color:white;margin:10;font-size:200%;text-align:center;display:fill;border-radius:10px;overflow:hidden;background-image: url(https://i.postimg.cc/fTDmwnkQ/Miaka.png); background-size: 100% auto;\"></div>\n"
      ],
      "metadata": {
        "id": "b0Y72mlZsw6M"
      }
    },
    {
      "cell_type": "code",
      "source": [
        "def build_model(hp):\n",
        "    model = keras.Sequential()\n",
        "    num_of_layer = hp.Int('num_of_layer', min_value=1, max_value=5, step=1)\n",
        "    model.add(keras.layers.InputLayer(input_shape=(20,)))\n",
        "    for i in range(num_of_layer):\n",
        "        model.add(keras.layers.Dense(\n",
        "            units=hp.Int(f'unit_{i}_layer', min_value=20, max_value=40, step=2),\n",
        "            activation='relu'\n",
        "        ))\n",
        "        model.add(BatchNormalization())\n",
        "        model.add(keras.layers.Dropout(\n",
        "            rate=hp.Float('dropout_rate', min_value=0.1, max_value=0.5, step=0.1)\n",
        "        ))\n",
        "    model.add(keras.layers.Dense(11, activation='softmax'))\n",
        "\n",
        "    model.compile(\n",
        "        optimizer=keras.optimizers.Adam(learning_rate=hp.Choice('learning_rate', values=[1e-2, 1e-3, 1e-4])),\n",
        "        loss='categorical_crossentropy',\n",
        "        metrics=['accuracy']\n",
        "    )\n",
        "    return model"
      ],
      "metadata": {
        "execution": {
          "iopub.status.busy": "2024-06-22T06:46:27.221774Z",
          "iopub.execute_input": "2024-06-22T06:46:27.222207Z",
          "iopub.status.idle": "2024-06-22T06:46:27.232914Z",
          "shell.execute_reply.started": "2024-06-22T06:46:27.222172Z",
          "shell.execute_reply": "2024-06-22T06:46:27.231501Z"
        },
        "trusted": true,
        "id": "HxXLSQNVsw6M"
      },
      "execution_count": null,
      "outputs": []
    },
    {
      "cell_type": "code",
      "source": [
        "tuner1 = keras_tuner.RandomSearch(hypermodel=build_model, objective='val_accuracy', max_trials=10, max_retries_per_trial=3,\n",
        "                                directory = '/kaggle/working/',\n",
        "                                 project_name='threat_detection_project')"
      ],
      "metadata": {
        "execution": {
          "iopub.status.busy": "2024-06-22T06:46:27.501168Z",
          "iopub.execute_input": "2024-06-22T06:46:27.501581Z",
          "iopub.status.idle": "2024-06-22T06:46:27.518315Z",
          "shell.execute_reply.started": "2024-06-22T06:46:27.501547Z",
          "shell.execute_reply": "2024-06-22T06:46:27.516936Z"
        },
        "trusted": true,
        "id": "1kDy0Y_Asw6M"
      },
      "execution_count": null,
      "outputs": []
    },
    {
      "cell_type": "code",
      "source": [
        "callbacks = [keras.callbacks.EarlyStopping(monitor='val_loss', patience=3)]"
      ],
      "metadata": {
        "execution": {
          "iopub.status.busy": "2024-06-22T06:46:27.731923Z",
          "iopub.execute_input": "2024-06-22T06:46:27.732613Z",
          "iopub.status.idle": "2024-06-22T06:46:27.738264Z",
          "shell.execute_reply.started": "2024-06-22T06:46:27.732577Z",
          "shell.execute_reply": "2024-06-22T06:46:27.73663Z"
        },
        "trusted": true,
        "id": "Xg_EW7lcsw6M"
      },
      "execution_count": null,
      "outputs": []
    },
    {
      "cell_type": "code",
      "source": [
        "tuner1.search(x_train_scaled, y_train_one_hot , epochs = 150, validation_data = (x_test_scaled, y_test_one_hot), callbacks = callbacks)"
      ],
      "metadata": {
        "execution": {
          "iopub.status.busy": "2024-06-22T06:47:53.192856Z",
          "iopub.execute_input": "2024-06-22T06:47:53.193288Z",
          "iopub.status.idle": "2024-06-22T07:15:34.665465Z",
          "shell.execute_reply.started": "2024-06-22T06:47:53.193245Z",
          "shell.execute_reply": "2024-06-22T07:15:34.664232Z"
        },
        "trusted": true,
        "id": "fm0mYtRJsw6M"
      },
      "execution_count": null,
      "outputs": []
    },
    {
      "cell_type": "code",
      "source": [
        "best_param = tuner1.get_best_hyperparameters(num_trials=1)[0]"
      ],
      "metadata": {
        "execution": {
          "iopub.status.busy": "2024-06-22T07:15:47.838837Z",
          "iopub.execute_input": "2024-06-22T07:15:47.839228Z",
          "iopub.status.idle": "2024-06-22T07:15:47.845234Z",
          "shell.execute_reply.started": "2024-06-22T07:15:47.839197Z",
          "shell.execute_reply": "2024-06-22T07:15:47.843791Z"
        },
        "trusted": true,
        "id": "GkPacOKDsw6N"
      },
      "execution_count": null,
      "outputs": []
    },
    {
      "cell_type": "code",
      "source": [
        "model1 = tuner1.hypermodel.build(best_param)"
      ],
      "metadata": {
        "execution": {
          "iopub.status.busy": "2024-06-22T07:15:49.127888Z",
          "iopub.execute_input": "2024-06-22T07:15:49.128315Z",
          "iopub.status.idle": "2024-06-22T07:15:49.322384Z",
          "shell.execute_reply.started": "2024-06-22T07:15:49.128281Z",
          "shell.execute_reply": "2024-06-22T07:15:49.321261Z"
        },
        "trusted": true,
        "id": "ph6OYK1ysw6N"
      },
      "execution_count": null,
      "outputs": []
    },
    {
      "cell_type": "code",
      "source": [
        "model1.summary()"
      ],
      "metadata": {
        "execution": {
          "iopub.status.busy": "2024-06-22T07:15:51.551831Z",
          "iopub.execute_input": "2024-06-22T07:15:51.552283Z",
          "iopub.status.idle": "2024-06-22T07:15:51.589708Z",
          "shell.execute_reply.started": "2024-06-22T07:15:51.552247Z",
          "shell.execute_reply": "2024-06-22T07:15:51.588512Z"
        },
        "trusted": true,
        "id": "1FvNClcesw6N"
      },
      "execution_count": null,
      "outputs": []
    },
    {
      "cell_type": "code",
      "source": [
        "history = model1.fit(x_train_scaled, y_train_one_hot ,epochs=100, validation_data=(x_test_scaled, y_test_one_hot))"
      ],
      "metadata": {
        "execution": {
          "iopub.status.busy": "2024-06-22T07:17:38.412818Z",
          "iopub.execute_input": "2024-06-22T07:17:38.413307Z",
          "iopub.status.idle": "2024-06-22T07:47:15.898586Z",
          "shell.execute_reply.started": "2024-06-22T07:17:38.413266Z",
          "shell.execute_reply": "2024-06-22T07:47:15.896147Z"
        },
        "trusted": true,
        "id": "K0S2gKAMsw6N"
      },
      "execution_count": null,
      "outputs": []
    },
    {
      "cell_type": "code",
      "source": [
        "plt.plot(history.history['accuracy'], color = 'red',label = 'train_accuracy' )\n",
        "plt.plot(history.history['val_accuracy'], color = 'blue', label = 'val_accuracy')\n",
        "plt.legend()\n",
        "plt.grid()\n",
        "plt.plot()\n",
        "plt.show()"
      ],
      "metadata": {
        "execution": {
          "iopub.status.busy": "2024-06-22T07:48:07.641763Z",
          "iopub.execute_input": "2024-06-22T07:48:07.642259Z",
          "iopub.status.idle": "2024-06-22T07:48:08.129173Z",
          "shell.execute_reply.started": "2024-06-22T07:48:07.642215Z",
          "shell.execute_reply": "2024-06-22T07:48:08.127728Z"
        },
        "trusted": true,
        "id": "QTwLkc43sw6N"
      },
      "execution_count": null,
      "outputs": []
    },
    {
      "cell_type": "code",
      "source": [
        "plt.plot(history.history['loss'], color = 'red', label = 'train_loss')\n",
        "plt.plot(history.history['val_loss'], color = 'blue', label = 'val_loss')\n",
        "plt.legend()\n",
        "plt.grid()\n",
        "plt.plot()\n",
        "plt.show()"
      ],
      "metadata": {
        "execution": {
          "iopub.status.busy": "2024-06-22T07:48:08.131745Z",
          "iopub.execute_input": "2024-06-22T07:48:08.132208Z",
          "iopub.status.idle": "2024-06-22T07:48:08.59026Z",
          "shell.execute_reply.started": "2024-06-22T07:48:08.132169Z",
          "shell.execute_reply": "2024-06-22T07:48:08.588758Z"
        },
        "trusted": true,
        "id": "EiXplSCMsw6N"
      },
      "execution_count": null,
      "outputs": []
    },
    {
      "cell_type": "code",
      "source": [],
      "metadata": {
        "id": "GCjxcP-Isw6N"
      },
      "execution_count": null,
      "outputs": []
    }
  ]
}